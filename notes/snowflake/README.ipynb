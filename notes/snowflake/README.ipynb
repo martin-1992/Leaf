{
 "cells": [
  {
   "cell_type": "markdown",
   "metadata": {},
   "source": [
    "### ID 设计\n",
    "　　以划分命名空间来生成 ID 的一种算法，即把 64 位的 ID 划分成多段，如下分别表示时间戳（41 位）、workerId（10 位）、序列号（12 位），位数可自行调整：\n",
    "\n",
    "![avatar](photo_1.png)\n",
    "\n",
    "- 第一位为 0；\n",
    "- 第 2- 42 位为相对时间戳，即用当前时间戳减去一个固定的历史时间戳生成；\n",
    "- 第 43-52 位为机器号 workerId，每个机器的 ID 不同；\n",
    "- 第 53-64 位为自增 ID。\n",
    "\n",
    "#### 优点\n",
    "\n",
    "- 毫秒数在高位，自增序列在低位，整个 ID 都是趋势递增的；\n",
    "- 不依赖数据库第三方系统，以服务方式部署，即本机可自行生成 ID，稳定性高；\n",
    "- 可根据自身业务特性分配 bit 位，比如将机器位的 10-bit 分 5-bit 给 IDC，分 5-bit 给机器，这样就可以表示 32 个IDC，每个 IDC 下可以有 32 台机器。\n",
    "\n",
    "#### 缺点\n",
    "\n",
    "- 强依赖机器时钟，如果机器上时钟回拨，会导致发号重复或者服务会处于不可用状态。比如今天 10:05 分发过一次号，如果时间又倒回 10:05 分，则发的号会重复。"
   ]
  },
  {
   "cell_type": "markdown",
   "metadata": {},
   "source": [
    "### SnowflakeService\n",
    "　　Leaf-snowflake 服务启动：\n",
    "\n",
    "- 解析配置文件，获取 zookeeper 地址和 snowflake 端口号；\n",
    "- 根据 zookeeper 地址和 snowflake 端口调用 SnowflakeIDGenImpl 启动 snowflake 服务；\n",
    "\n",
    "```java\n",
    "    public SnowflakeService() throws InitException {\n",
    "        Properties properties = PropertyFactory.getProperties();\n",
    "        // 解析参数 leaf.snowflake.enable，是否开启字典序排数算法\n",
    "        boolean flag = Boolean.parseBoolean(properties.getProperty(Constants.LEAF_SNOWFLAKE_ENABLE, \"true\"));\n",
    "\n",
    "        if (flag) {\n",
    "            // 解析参数，获取 zookeeper 地址，比如 \"192.168.1.159:2100,192.168.1.159:2101,192.168.1.159:2102\"\n",
    "            String zkAddress = properties.getProperty(Constants.LEAF_SNOWFLAKE_ZK_ADDRESS);\n",
    "            // 解析参数，获取 snowflake 端口\n",
    "            int port = Integer.parseInt(properties.getProperty(Constants.LEAF_SNOWFLAKE_PORT));\n",
    "            // 根据 zookeeper 地址和 snowflake 端口生成\n",
    "            idGen = new SnowflakeIDGenImpl(zkAddress, port);\n",
    "            // snowflake 初始化成功\n",
    "            if(idGen.init()) {\n",
    "                logger.info(\"Snowflake Service Init Successfully\");\n",
    "            } else {\n",
    "                throw new InitException(\"Snowflake Service Init Fail\");\n",
    "            }\n",
    "        } else {\n",
    "            // 不开启 snowflake 算法，则返回 ID 为 0\n",
    "            idGen = new ZeroIDGen();\n",
    "            logger.info(\"Zero ID Gen Service Init Successfully\");\n",
    "        }\n",
    "    }\n",
    "```"
   ]
  },
  {
   "cell_type": "markdown",
   "metadata": {
    "collapsed": true
   },
   "source": [
    "### SnowflakeIDGenImpl\n",
    "\n",
    "- 创建对象 SnowflakeZookeeperHolder，包含 IP、端口、zookeeper 地址；\n",
    "- 核心是调用该对象 SnowflakeZookeeperHolder 的初始化 [init]() 方法。\n",
    "\n",
    "```java\n",
    "    public SnowflakeIDGenImpl(String zkAddress, int port) {\n",
    "        this.port = port;\n",
    "        // 创建对象\n",
    "        SnowflakeZookeeperHolder holder = new SnowflakeZookeeperHolder(Utils.getIp(), String.valueOf(port), zkAddress);\n",
    "        // 初始化\n",
    "        initFlag = holder.init();\n",
    "        // ...\n",
    "    }\n",
    "```"
   ]
  }
 ],
 "metadata": {
  "kernelspec": {
   "display_name": "Python 3",
   "language": "python",
   "name": "python3"
  },
  "language_info": {
   "codemirror_mode": {
    "name": "ipython",
    "version": 3
   },
   "file_extension": ".py",
   "mimetype": "text/x-python",
   "name": "python",
   "nbconvert_exporter": "python",
   "pygments_lexer": "ipython3",
   "version": "3.6.1"
  }
 },
 "nbformat": 4,
 "nbformat_minor": 2
}
