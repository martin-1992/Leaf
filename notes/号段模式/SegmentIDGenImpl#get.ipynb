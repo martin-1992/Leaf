{
 "cells": [
  {
   "cell_type": "markdown",
   "metadata": {},
   "source": [
    "### SegmentIDGenImpl#get\n",
    "\n",
    "- 先判断初始化是否成功，在 [SegmentIDGenImpl#init]() 方法中初始化包括将数据库中的业务 key 添加到缓存中、删去缓存中没用的业务 key 和创建一个线程定时添加新的业务 key 到缓存中；\n",
    "- 判断缓存（多线程下使用 ConcurrentHashMap）是否包含该业务 key，不包含则抛出异常；\n",
    "- 使用双重检查锁，检查 SegmentBuffer 是否已用构造函数创建，并进行零值初始化；\n",
    "- 调用 [updateSegmentFromDb]()，从数据库配置更新 buffer 的当前 ID 值、最大 ID 值，以及动态调整步长；\n",
    "- 调用 getIdFromSegmentBuffer，发号和准备另一个 buffer，当前 buffer 发号完了，就切换到另一个 buffer 进行发号。\n",
    "\n",
    "\n",
    "```java\n",
    "    /**\n",
    "     * 初始化是否成功标记\n",
    "     */\n",
    "    private volatile boolean initOK = false;\n",
    "\n",
    "    /**\n",
    "     * 存储每个业务 key 的双 buffer，存储所有业务key对应双buffer号段，所以是基于内存的发号方式\n",
    "     */\n",
    "    private Map<String, SegmentBuffer> cache = new ConcurrentHashMap<String, SegmentBuffer>();\n",
    "\n",
    "\n",
    "    @Override\n",
    "    public Result get(final String key) {\n",
    "        // 先检查初始化是否成功，初始化包含：将数据库中的业务 key 添加到缓存中、\n",
    "        // 删去缓存中没用的业务 key 和创建一个线程定时添加新的业务 key 到缓存中\n",
    "        if (!initOK) {\n",
    "            return new Result(EXCEPTION_ID_IDCACHE_INIT_FALSE, Status.EXCEPTION);\n",
    "        }\n",
    "        // 如果该缓存包含业务 key\n",
    "        if (cache.containsKey(key)) {\n",
    "            SegmentBuffer buffer = cache.get(key);\n",
    "            // 使用双重检查锁，检查 SegmentBuffer 是否已用构造函数创建，并进行零值初始化\n",
    "            if (!buffer.isInitOk()) {\n",
    "                synchronized (buffer) {\n",
    "                    if (!buffer.isInitOk()) {\n",
    "                        try {\n",
    "                            // 从数据库配置更新 buffer 的当前 ID 值、最大 ID 值，以及动态调整步长\n",
    "                            updateSegmentFromDb(key, buffer.getCurrent());\n",
    "                            logger.info(\"Init buffer. Update leafkey {} {} from db\", key, buffer.getCurrent());\n",
    "                            buffer.setInitOk(true);\n",
    "                        } catch (Exception e) {\n",
    "                            logger.warn(\"Init buffer {} exception\", buffer.getCurrent(), e);\n",
    "                        }\n",
    "                    }\n",
    "                }\n",
    "            }\n",
    "            // 发号和准备另一个 buffer，当前 buffer 发号完了，就切换到另一个 buffer 进行发号\n",
    "            return getIdFromSegmentBuffer(cache.get(key));\n",
    "        }\n",
    "        // 缓存不包含业务 key，返回异常错误\n",
    "        return new Result(EXCEPTION_ID_KEY_NOT_EXISTS, Status.EXCEPTION);\n",
    "    }\n",
    "```"
   ]
  },
  {
   "cell_type": "code",
   "execution_count": null,
   "metadata": {
    "collapsed": true
   },
   "outputs": [],
   "source": []
  }
 ],
 "metadata": {
  "kernelspec": {
   "display_name": "Python 3",
   "language": "python",
   "name": "python3"
  },
  "language_info": {
   "codemirror_mode": {
    "name": "ipython",
    "version": 3
   },
   "file_extension": ".py",
   "mimetype": "text/x-python",
   "name": "python",
   "nbconvert_exporter": "python",
   "pygments_lexer": "ipython3",
   "version": "3.6.1"
  }
 },
 "nbformat": 4,
 "nbformat_minor": 2
}
