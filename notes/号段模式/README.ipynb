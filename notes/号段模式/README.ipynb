{
 "cells": [
  {
   "cell_type": "markdown",
   "metadata": {
    "collapsed": true
   },
   "source": [
    "### 号段模式\n",
    "　　低位趋势增长，高可用，采用从数据库获取发号的起始 ID 值、最大 ID 值，发号是在本机进行，即使数据库宕机，也能保证一段时间内正常发号，ID 可计算，不适用于订单 ID 生成场景。<br />\n",
    "　　注意，数据库只保存起始 ID 值、最大 ID 值，发号 ID 是在本机机器进行的，多线程下发号 ID 会使用读锁保证可见性，判断发号 ID 值是否小于数据库中配置的最大 ID 值，是则继续发号，不是则切换到另外一个 buffer 继续发号。<br />\n",
    "　　如下图，为 Leaf 数据库中的号段表格式如下：\n",
    "\n",
    "![avatar](photo_1.png)"
   ]
  },
  {
   "cell_type": "markdown",
   "metadata": {},
   "source": [
    "### SegmentService\n",
    "　　主要是解析配置文件，创建数据库连接池以及创建 ID 生成器 [SegmentIDGenImpl]()。\n",
    "\n",
    "- 载入配置文件 leaf.properties；\n",
    "- 解析配置文件，判断是否开启号段模式，不开启则 ID 返回为 0；\n",
    "- 创建 Druid 数据库连接池，根据配置文件配置；\n",
    "- 初始化 sqlSessionFactory，用于创建 SqlSession；\n",
    "- 创建 ID 生成器 SegmentIDGenImpl，并初始化。\n",
    "\n",
    "```java    \n",
    "    public SegmentService() throws SQLException, InitException {\n",
    "        // 载入配置文件 leaf.properties\n",
    "        Properties properties = PropertyFactory.getProperties();\n",
    "        // 是否开启号段模式，默认开启\n",
    "        boolean flag = Boolean.parseBoolean(properties.getProperty(Constants.LEAF_SEGMENT_ENABLE, \"true\"));\n",
    "        if (flag) {\n",
    "            // Config dataSource\n",
    "            // 创建 Druid 数据库连接池，并配置\n",
    "            dataSource = new DruidDataSource();\n",
    "            dataSource.setUrl(properties.getProperty(Constants.LEAF_JDBC_URL));\n",
    "            dataSource.setUsername(properties.getProperty(Constants.LEAF_JDBC_USERNAME));\n",
    "            dataSource.setPassword(properties.getProperty(Constants.LEAF_JDBC_PASSWORD));\n",
    "            dataSource.init();\n",
    "\n",
    "            // Config Dao\n",
    "            // 初始化 sqlSessionFactory，用于创建 SqlSession\n",
    "            IDAllocDao dao = new IDAllocDaoImpl(dataSource);\n",
    "\n",
    "            // Config ID Gen\n",
    "            // 创建 ID 生成器，并初始化\n",
    "            idGen = new SegmentIDGenImpl();\n",
    "            ((SegmentIDGenImpl) idGen).setDao(dao);\n",
    "            if (idGen.init()) {\n",
    "                logger.info(\"Segment Service Init Successfully\");\n",
    "            } else {\n",
    "                throw new InitException(\"Segment Service Init Fail\");\n",
    "            }\n",
    "        } else {\n",
    "            // 不开启，则返回 ID 为 0\n",
    "            idGen = new ZeroIDGen();\n",
    "            logger.info(\"Zero ID Gen Service Init Successfully\");\n",
    "        }\n",
    "    }\n",
    "```"
   ]
  }
 ],
 "metadata": {
  "kernelspec": {
   "display_name": "Python 3",
   "language": "python",
   "name": "python3"
  },
  "language_info": {
   "codemirror_mode": {
    "name": "ipython",
    "version": 3
   },
   "file_extension": ".py",
   "mimetype": "text/x-python",
   "name": "python",
   "nbconvert_exporter": "python",
   "pygments_lexer": "ipython3",
   "version": "3.6.1"
  }
 },
 "nbformat": 4,
 "nbformat_minor": 2
}
